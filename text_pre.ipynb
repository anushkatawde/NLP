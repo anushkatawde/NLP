{
 "cells": [
  {
   "cell_type": "markdown",
   "id": "d2d2263e",
   "metadata": {},
   "source": [
    "## 1.LowerCase               \n",
    "## 2.Tokenization                      \n",
    "## 3. StopWord Removel \n",
    "## 4. Stemming    \n",
    "## 5. Lemmatization"
   ]
  },
  {
   "cell_type": "code",
   "execution_count": 1,
   "id": "0256e412",
   "metadata": {},
   "outputs": [],
   "source": [
    "import warnings\n",
    "warnings.filterwarnings('ignore')"
   ]
  },
  {
   "cell_type": "code",
   "execution_count": 2,
   "id": "613644fd",
   "metadata": {},
   "outputs": [],
   "source": [
    "import pandas as pd\n",
    "\n",
    "f = open('allen.txt')"
   ]
  },
  {
   "cell_type": "code",
   "execution_count": 3,
   "id": "889d757f",
   "metadata": {},
   "outputs": [],
   "source": [
    "data = f.read()"
   ]
  },
  {
   "cell_type": "code",
   "execution_count": 4,
   "id": "3b10ee7c",
   "metadata": {},
   "outputs": [
    {
     "name": "stdout",
     "output_type": "stream",
     "text": [
      "Alan Mathison Turing OBE FRS (/ËˆtjÊŠÉ™rÉªÅ‹/; 23 June 1912 â€“ 7 June 1954) was an English mathematician, computer scientist, logician, cryptanalyst, philosopher and theoretical biologist.[6] Turing was highly influential in the development of theoretical computer science, providing a formalisation of the concepts of algorithm and computation with the Turing machine, which can be considered a model of a general-purpose computer.[7][8][9] He is widely considered to be the father of theoretical computer science and artificial intelligence.\n"
     ]
    }
   ],
   "source": [
    "print(data)"
   ]
  },
  {
   "cell_type": "markdown",
   "id": "af144b1e",
   "metadata": {},
   "source": [
    "# LowerCase"
   ]
  },
  {
   "cell_type": "code",
   "execution_count": 5,
   "id": "9de9ac3c",
   "metadata": {},
   "outputs": [
    {
     "data": {
      "text/plain": [
       "'alan mathison turing obe frs (/ëˆtjêšé™réªå‹/; 23 june 1912 â€“ 7 june 1954) was an english mathematician, computer scientist, logician, cryptanalyst, philosopher and theoretical biologist.[6] turing was highly influential in the development of theoretical computer science, providing a formalisation of the concepts of algorithm and computation with the turing machine, which can be considered a model of a general-purpose computer.[7][8][9] he is widely considered to be the father of theoretical computer science and artificial intelligence.'"
      ]
     },
     "execution_count": 5,
     "metadata": {},
     "output_type": "execute_result"
    }
   ],
   "source": [
    "# lower case\n",
    "\n",
    "data.lower()"
   ]
  },
  {
   "cell_type": "markdown",
   "id": "b4c78ff1",
   "metadata": {},
   "source": [
    "# Tokenization"
   ]
  },
  {
   "cell_type": "code",
   "execution_count": 6,
   "id": "a94c2be8",
   "metadata": {},
   "outputs": [],
   "source": [
    "from nltk.tokenize import word_tokenize, sent_tokenize, regexp_tokenize"
   ]
  },
  {
   "cell_type": "code",
   "execution_count": 7,
   "id": "a6e2301e",
   "metadata": {},
   "outputs": [],
   "source": [
    "word_tokens = word_tokenize(data)"
   ]
  },
  {
   "cell_type": "code",
   "execution_count": 8,
   "id": "00cf44e7",
   "metadata": {},
   "outputs": [
    {
     "data": {
      "text/plain": [
       "100"
      ]
     },
     "execution_count": 8,
     "metadata": {},
     "output_type": "execute_result"
    }
   ],
   "source": [
    "len(word_tokens)"
   ]
  },
  {
   "cell_type": "code",
   "execution_count": 9,
   "id": "95884358",
   "metadata": {},
   "outputs": [],
   "source": [
    "sentence_tokens = sent_tokenize(data)"
   ]
  },
  {
   "cell_type": "code",
   "execution_count": 10,
   "id": "e5063cd4",
   "metadata": {},
   "outputs": [
    {
     "data": {
      "text/plain": [
       "['Alan Mathison Turing OBE FRS (/ËˆtjÊŠÉ™rÉªÅ‹/; 23 June 1912 â€“ 7 June 1954) was an English mathematician, computer scientist, logician, cryptanalyst, philosopher and theoretical biologist.',\n",
       " '[6] Turing was highly influential in the development of theoretical computer science, providing a formalisation of the concepts of algorithm and computation with the Turing machine, which can be considered a model of a general-purpose computer.',\n",
       " '[7][8][9] He is widely considered to be the father of theoretical computer science and artificial intelligence.']"
      ]
     },
     "execution_count": 10,
     "metadata": {},
     "output_type": "execute_result"
    }
   ],
   "source": [
    "sentence_tokens"
   ]
  },
  {
   "cell_type": "code",
   "execution_count": 11,
   "id": "4e9190e4",
   "metadata": {},
   "outputs": [],
   "source": [
    "text_clean = regexp_tokenize(data,'\\w+')"
   ]
  },
  {
   "cell_type": "code",
   "execution_count": 12,
   "id": "3def038b",
   "metadata": {},
   "outputs": [
    {
     "data": {
      "text/plain": [
       "81"
      ]
     },
     "execution_count": 12,
     "metadata": {},
     "output_type": "execute_result"
    }
   ],
   "source": [
    "len(text_clean)"
   ]
  },
  {
   "cell_type": "markdown",
   "id": "b8328064",
   "metadata": {},
   "source": [
    "# StopWord Removel"
   ]
  },
  {
   "cell_type": "code",
   "execution_count": 13,
   "id": "eebb40d5",
   "metadata": {},
   "outputs": [],
   "source": [
    "from nltk.corpus import stopwords"
   ]
  },
  {
   "cell_type": "code",
   "execution_count": 14,
   "id": "78610354",
   "metadata": {},
   "outputs": [],
   "source": [
    "import nltk"
   ]
  },
  {
   "cell_type": "code",
   "execution_count": 38,
   "id": "03ce62de",
   "metadata": {},
   "outputs": [],
   "source": [
    "nltk.download('stopwords')"
   ]
  },
  {
   "cell_type": "code",
   "execution_count": 16,
   "id": "259ef98b",
   "metadata": {},
   "outputs": [],
   "source": [
    "stop_words = set(stopwords.words('english'))"
   ]
  },
  {
   "cell_type": "code",
   "execution_count": 17,
   "id": "2973ccb8",
   "metadata": {},
   "outputs": [
    {
     "data": {
      "text/plain": [
       "179"
      ]
     },
     "execution_count": 17,
     "metadata": {},
     "output_type": "execute_result"
    }
   ],
   "source": [
    "len(stop_words)"
   ]
  },
  {
   "cell_type": "code",
   "execution_count": 18,
   "id": "5865d770",
   "metadata": {},
   "outputs": [
    {
     "data": {
      "text/plain": [
       "81"
      ]
     },
     "execution_count": 18,
     "metadata": {},
     "output_type": "execute_result"
    }
   ],
   "source": [
    "len(text_clean)"
   ]
  },
  {
   "cell_type": "code",
   "execution_count": 19,
   "id": "daf09423",
   "metadata": {},
   "outputs": [],
   "source": [
    "without_stop_words = [word for word in text_clean if not word in stop_words]"
   ]
  },
  {
   "cell_type": "code",
   "execution_count": 20,
   "id": "87d41973",
   "metadata": {},
   "outputs": [
    {
     "data": {
      "text/plain": [
       "55"
      ]
     },
     "execution_count": 20,
     "metadata": {},
     "output_type": "execute_result"
    }
   ],
   "source": [
    "len(without_stop_words)"
   ]
  },
  {
   "cell_type": "code",
   "execution_count": 21,
   "id": "e488e8ef",
   "metadata": {},
   "outputs": [
    {
     "name": "stdout",
     "output_type": "stream",
     "text": [
      "Before removing Stop Words :  81\n",
      "After removing Stop Words  :  55\n"
     ]
    }
   ],
   "source": [
    "print(\"Before removing Stop Words : \", len(text_clean))\n",
    "print(\"After removing Stop Words  : \", len(without_stop_words))"
   ]
  },
  {
   "cell_type": "markdown",
   "id": "33d2204c",
   "metadata": {},
   "source": [
    "# Stemming"
   ]
  },
  {
   "cell_type": "code",
   "execution_count": 22,
   "id": "47bce421",
   "metadata": {},
   "outputs": [],
   "source": [
    "from nltk.stem import PorterStemmer"
   ]
  },
  {
   "cell_type": "code",
   "execution_count": 23,
   "id": "2a26daca",
   "metadata": {},
   "outputs": [],
   "source": [
    "words = ['write', 'writing', 'written']"
   ]
  },
  {
   "cell_type": "code",
   "execution_count": 24,
   "id": "7c68c0e2",
   "metadata": {},
   "outputs": [],
   "source": [
    "ps = PorterStemmer()"
   ]
  },
  {
   "cell_type": "code",
   "execution_count": 25,
   "id": "098ee6c2",
   "metadata": {},
   "outputs": [
    {
     "name": "stdout",
     "output_type": "stream",
     "text": [
      "write: write\n",
      "writing: write\n",
      "written: written\n"
     ]
    }
   ],
   "source": [
    "for word in words:\n",
    "    print(f'{word}: {ps.stem(word)}')"
   ]
  },
  {
   "cell_type": "code",
   "execution_count": 26,
   "id": "73e37864",
   "metadata": {},
   "outputs": [
    {
     "name": "stdout",
     "output_type": "stream",
     "text": [
      "probable: probabl\n",
      "probability: probabl\n",
      "probably: probabl\n"
     ]
    }
   ],
   "source": [
    "l1 = ['probable', 'probability', 'probably']\n",
    "ps = PorterStemmer()\n",
    "for word in l1: print(f'{word}: {ps.stem(word)}')"
   ]
  },
  {
   "cell_type": "markdown",
   "id": "06c2fd1d",
   "metadata": {},
   "source": [
    "# Lemmatization"
   ]
  },
  {
   "cell_type": "code",
   "execution_count": 37,
   "id": "83bffc0a",
   "metadata": {},
   "outputs": [],
   "source": [
    "from nltk.stem import WordNetLemmatizer\n",
    "\n",
    "nltk.download('wordnet')\n",
    "nltk.download('punkt')\n",
    "\n",
    "nltk.download('omw-1.4')"
   ]
  },
  {
   "cell_type": "code",
   "execution_count": 32,
   "id": "07043df7",
   "metadata": {},
   "outputs": [],
   "source": [
    "lm = WordNetLemmatizer()"
   ]
  },
  {
   "cell_type": "code",
   "execution_count": 33,
   "id": "1344af83",
   "metadata": {},
   "outputs": [],
   "source": [
    "items = ['books', 'cats', 'likes']"
   ]
  },
  {
   "cell_type": "code",
   "execution_count": 34,
   "id": "e0addf23",
   "metadata": {},
   "outputs": [
    {
     "name": "stdout",
     "output_type": "stream",
     "text": [
      "books : book\n",
      "cats : cat\n",
      "likes : like\n"
     ]
    }
   ],
   "source": [
    "for word in items:\n",
    "    print(word, \":\", lm.lemmatize(word))"
   ]
  },
  {
   "cell_type": "code",
   "execution_count": 35,
   "id": "21a94344",
   "metadata": {},
   "outputs": [
    {
     "name": "stdout",
     "output_type": "stream",
     "text": [
      "program : program\n",
      "programming : programming\n",
      "programer : programer\n",
      "programs : program\n",
      "programmed : programmed\n"
     ]
    }
   ],
   "source": [
    "example_words = [\"program\",\"programming\",\"programer\",\"programs\",\"programmed\"]\n",
    "wnl = WordNetLemmatizer()\n",
    "for w in example_words:\n",
    "        print(f\"{w} : {wnl.lemmatize(w)}\")"
   ]
  },
  {
   "cell_type": "code",
   "execution_count": 36,
   "id": "ee68b810",
   "metadata": {},
   "outputs": [
    {
     "data": {
      "text/plain": [
       "'rock'"
      ]
     },
     "execution_count": 36,
     "metadata": {},
     "output_type": "execute_result"
    }
   ],
   "source": [
    "lm.lemmatize(\"rocks\")"
   ]
  },
  {
   "cell_type": "code",
   "execution_count": null,
   "id": "d2fbbbf3",
   "metadata": {},
   "outputs": [],
   "source": []
  }
 ],
 "metadata": {
  "kernelspec": {
   "display_name": "Python 3 (ipykernel)",
   "language": "python",
   "name": "python3"
  },
  "language_info": {
   "codemirror_mode": {
    "name": "ipython",
    "version": 3
   },
   "file_extension": ".py",
   "mimetype": "text/x-python",
   "name": "python",
   "nbconvert_exporter": "python",
   "pygments_lexer": "ipython3",
   "version": "3.9.12"
  }
 },
 "nbformat": 4,
 "nbformat_minor": 5
}
