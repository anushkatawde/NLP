{
 "cells": [
  {
   "cell_type": "code",
   "execution_count": 1,
   "metadata": {},
   "outputs": [],
   "source": [
    "from textblob import TextBlob\n",
    "import pandas as pd\n",
    "import numpy as np"
   ]
  },
  {
   "cell_type": "code",
   "execution_count": 2,
   "metadata": {},
   "outputs": [],
   "source": [
    "df = pd.read_json('dataset/All_Beauty_5.json', lines = True)"
   ]
  },
  {
   "cell_type": "code",
   "execution_count": 3,
   "metadata": {},
   "outputs": [
    {
     "data": {
      "text/html": [
       "<div>\n",
       "<style scoped>\n",
       "    .dataframe tbody tr th:only-of-type {\n",
       "        vertical-align: middle;\n",
       "    }\n",
       "\n",
       "    .dataframe tbody tr th {\n",
       "        vertical-align: top;\n",
       "    }\n",
       "\n",
       "    .dataframe thead th {\n",
       "        text-align: right;\n",
       "    }\n",
       "</style>\n",
       "<table border=\"1\" class=\"dataframe\">\n",
       "  <thead>\n",
       "    <tr style=\"text-align: right;\">\n",
       "      <th></th>\n",
       "      <th>overall</th>\n",
       "      <th>verified</th>\n",
       "      <th>reviewTime</th>\n",
       "      <th>reviewerID</th>\n",
       "      <th>asin</th>\n",
       "      <th>style</th>\n",
       "      <th>reviewerName</th>\n",
       "      <th>reviewText</th>\n",
       "      <th>summary</th>\n",
       "      <th>unixReviewTime</th>\n",
       "      <th>vote</th>\n",
       "      <th>image</th>\n",
       "    </tr>\n",
       "  </thead>\n",
       "  <tbody>\n",
       "    <tr>\n",
       "      <th>0</th>\n",
       "      <td>5</td>\n",
       "      <td>True</td>\n",
       "      <td>09 1, 2016</td>\n",
       "      <td>A3CIUOJXQ5VDQ2</td>\n",
       "      <td>B0000530HU</td>\n",
       "      <td>{'Size:': ' 7.0 oz', 'Flavor:': ' Classic Ice ...</td>\n",
       "      <td>Shelly F</td>\n",
       "      <td>As advertised. Reasonably priced</td>\n",
       "      <td>Five Stars</td>\n",
       "      <td>1472688000</td>\n",
       "      <td>NaN</td>\n",
       "      <td>NaN</td>\n",
       "    </tr>\n",
       "    <tr>\n",
       "      <th>1</th>\n",
       "      <td>5</td>\n",
       "      <td>True</td>\n",
       "      <td>11 14, 2013</td>\n",
       "      <td>A3H7T87S984REU</td>\n",
       "      <td>B0000530HU</td>\n",
       "      <td>{'Size:': ' 7.0 oz', 'Flavor:': ' Classic Ice ...</td>\n",
       "      <td>houserules18</td>\n",
       "      <td>Like the oder and the feel when I put it on my...</td>\n",
       "      <td>Good for the face</td>\n",
       "      <td>1384387200</td>\n",
       "      <td>NaN</td>\n",
       "      <td>NaN</td>\n",
       "    </tr>\n",
       "    <tr>\n",
       "      <th>2</th>\n",
       "      <td>1</td>\n",
       "      <td>True</td>\n",
       "      <td>08 18, 2013</td>\n",
       "      <td>A3J034YH7UG4KT</td>\n",
       "      <td>B0000530HU</td>\n",
       "      <td>{'Size:': ' 7.0 oz', 'Flavor:': ' Classic Ice ...</td>\n",
       "      <td>Adam</td>\n",
       "      <td>I bought this to smell nice after I shave.  Wh...</td>\n",
       "      <td>Smells awful</td>\n",
       "      <td>1376784000</td>\n",
       "      <td>NaN</td>\n",
       "      <td>NaN</td>\n",
       "    </tr>\n",
       "    <tr>\n",
       "      <th>3</th>\n",
       "      <td>5</td>\n",
       "      <td>False</td>\n",
       "      <td>05 3, 2011</td>\n",
       "      <td>A2UEO5XR3598GI</td>\n",
       "      <td>B0000530HU</td>\n",
       "      <td>{'Size:': ' 7.0 oz', 'Flavor:': ' Classic Ice ...</td>\n",
       "      <td>Rich K</td>\n",
       "      <td>HEY!! I am an Aqua Velva Man and absolutely lo...</td>\n",
       "      <td>Truth is There IS Nothing Like an AQUA VELVA MAN.</td>\n",
       "      <td>1304380800</td>\n",
       "      <td>25</td>\n",
       "      <td>NaN</td>\n",
       "    </tr>\n",
       "    <tr>\n",
       "      <th>4</th>\n",
       "      <td>5</td>\n",
       "      <td>True</td>\n",
       "      <td>05 6, 2011</td>\n",
       "      <td>A3SFRT223XXWF7</td>\n",
       "      <td>B00006L9LC</td>\n",
       "      <td>{'Size:': ' 200ml/6.7oz'}</td>\n",
       "      <td>C. C. Christian</td>\n",
       "      <td>If you ever want to feel pampered by a shampoo...</td>\n",
       "      <td>Bvlgari Shampoo</td>\n",
       "      <td>1304640000</td>\n",
       "      <td>3</td>\n",
       "      <td>NaN</td>\n",
       "    </tr>\n",
       "  </tbody>\n",
       "</table>\n",
       "</div>"
      ],
      "text/plain": [
       "   overall  verified   reviewTime      reviewerID        asin  \\\n",
       "0        5      True   09 1, 2016  A3CIUOJXQ5VDQ2  B0000530HU   \n",
       "1        5      True  11 14, 2013  A3H7T87S984REU  B0000530HU   \n",
       "2        1      True  08 18, 2013  A3J034YH7UG4KT  B0000530HU   \n",
       "3        5     False   05 3, 2011  A2UEO5XR3598GI  B0000530HU   \n",
       "4        5      True   05 6, 2011  A3SFRT223XXWF7  B00006L9LC   \n",
       "\n",
       "                                               style     reviewerName  \\\n",
       "0  {'Size:': ' 7.0 oz', 'Flavor:': ' Classic Ice ...         Shelly F   \n",
       "1  {'Size:': ' 7.0 oz', 'Flavor:': ' Classic Ice ...     houserules18   \n",
       "2  {'Size:': ' 7.0 oz', 'Flavor:': ' Classic Ice ...             Adam   \n",
       "3  {'Size:': ' 7.0 oz', 'Flavor:': ' Classic Ice ...           Rich K   \n",
       "4                          {'Size:': ' 200ml/6.7oz'}  C. C. Christian   \n",
       "\n",
       "                                          reviewText  \\\n",
       "0                   As advertised. Reasonably priced   \n",
       "1  Like the oder and the feel when I put it on my...   \n",
       "2  I bought this to smell nice after I shave.  Wh...   \n",
       "3  HEY!! I am an Aqua Velva Man and absolutely lo...   \n",
       "4  If you ever want to feel pampered by a shampoo...   \n",
       "\n",
       "                                             summary  unixReviewTime vote  \\\n",
       "0                                         Five Stars      1472688000  NaN   \n",
       "1                                  Good for the face      1384387200  NaN   \n",
       "2                                       Smells awful      1376784000  NaN   \n",
       "3  Truth is There IS Nothing Like an AQUA VELVA MAN.      1304380800   25   \n",
       "4                                    Bvlgari Shampoo      1304640000    3   \n",
       "\n",
       "  image  \n",
       "0   NaN  \n",
       "1   NaN  \n",
       "2   NaN  \n",
       "3   NaN  \n",
       "4   NaN  "
      ]
     },
     "execution_count": 3,
     "metadata": {},
     "output_type": "execute_result"
    }
   ],
   "source": [
    "df.head()"
   ]
  },
  {
   "cell_type": "code",
   "execution_count": 4,
   "metadata": {},
   "outputs": [
    {
     "data": {
      "text/html": [
       "<div>\n",
       "<style scoped>\n",
       "    .dataframe tbody tr th:only-of-type {\n",
       "        vertical-align: middle;\n",
       "    }\n",
       "\n",
       "    .dataframe tbody tr th {\n",
       "        vertical-align: top;\n",
       "    }\n",
       "\n",
       "    .dataframe thead th {\n",
       "        text-align: right;\n",
       "    }\n",
       "</style>\n",
       "<table border=\"1\" class=\"dataframe\">\n",
       "  <thead>\n",
       "    <tr style=\"text-align: right;\">\n",
       "      <th></th>\n",
       "      <th>overall</th>\n",
       "      <th>verified</th>\n",
       "      <th>reviewTime</th>\n",
       "      <th>reviewText</th>\n",
       "      <th>summary</th>\n",
       "    </tr>\n",
       "  </thead>\n",
       "  <tbody>\n",
       "    <tr>\n",
       "      <th>0</th>\n",
       "      <td>5</td>\n",
       "      <td>True</td>\n",
       "      <td>09 1, 2016</td>\n",
       "      <td>As advertised. Reasonably priced</td>\n",
       "      <td>Five Stars</td>\n",
       "    </tr>\n",
       "    <tr>\n",
       "      <th>1</th>\n",
       "      <td>5</td>\n",
       "      <td>True</td>\n",
       "      <td>11 14, 2013</td>\n",
       "      <td>Like the oder and the feel when I put it on my...</td>\n",
       "      <td>Good for the face</td>\n",
       "    </tr>\n",
       "    <tr>\n",
       "      <th>2</th>\n",
       "      <td>1</td>\n",
       "      <td>True</td>\n",
       "      <td>08 18, 2013</td>\n",
       "      <td>I bought this to smell nice after I shave.  Wh...</td>\n",
       "      <td>Smells awful</td>\n",
       "    </tr>\n",
       "    <tr>\n",
       "      <th>3</th>\n",
       "      <td>5</td>\n",
       "      <td>False</td>\n",
       "      <td>05 3, 2011</td>\n",
       "      <td>HEY!! I am an Aqua Velva Man and absolutely lo...</td>\n",
       "      <td>Truth is There IS Nothing Like an AQUA VELVA MAN.</td>\n",
       "    </tr>\n",
       "    <tr>\n",
       "      <th>4</th>\n",
       "      <td>5</td>\n",
       "      <td>True</td>\n",
       "      <td>05 6, 2011</td>\n",
       "      <td>If you ever want to feel pampered by a shampoo...</td>\n",
       "      <td>Bvlgari Shampoo</td>\n",
       "    </tr>\n",
       "  </tbody>\n",
       "</table>\n",
       "</div>"
      ],
      "text/plain": [
       "   overall  verified   reviewTime  \\\n",
       "0        5      True   09 1, 2016   \n",
       "1        5      True  11 14, 2013   \n",
       "2        1      True  08 18, 2013   \n",
       "3        5     False   05 3, 2011   \n",
       "4        5      True   05 6, 2011   \n",
       "\n",
       "                                          reviewText  \\\n",
       "0                   As advertised. Reasonably priced   \n",
       "1  Like the oder and the feel when I put it on my...   \n",
       "2  I bought this to smell nice after I shave.  Wh...   \n",
       "3  HEY!! I am an Aqua Velva Man and absolutely lo...   \n",
       "4  If you ever want to feel pampered by a shampoo...   \n",
       "\n",
       "                                             summary  \n",
       "0                                         Five Stars  \n",
       "1                                  Good for the face  \n",
       "2                                       Smells awful  \n",
       "3  Truth is There IS Nothing Like an AQUA VELVA MAN.  \n",
       "4                                    Bvlgari Shampoo  "
      ]
     },
     "execution_count": 4,
     "metadata": {},
     "output_type": "execute_result"
    }
   ],
   "source": [
    "df = df[['overall', 'verified', 'reviewTime', 'reviewText', 'summary']]\n",
    "df.head()"
   ]
  },
  {
   "cell_type": "code",
   "execution_count": 5,
   "metadata": {},
   "outputs": [],
   "source": [
    "df['reviewTime'] = pd.to_datetime(df['reviewTime']).dt.strftime('%Y')"
   ]
  },
  {
   "cell_type": "code",
   "execution_count": 6,
   "metadata": {},
   "outputs": [
    {
     "data": {
      "text/html": [
       "<div>\n",
       "<style scoped>\n",
       "    .dataframe tbody tr th:only-of-type {\n",
       "        vertical-align: middle;\n",
       "    }\n",
       "\n",
       "    .dataframe tbody tr th {\n",
       "        vertical-align: top;\n",
       "    }\n",
       "\n",
       "    .dataframe thead th {\n",
       "        text-align: right;\n",
       "    }\n",
       "</style>\n",
       "<table border=\"1\" class=\"dataframe\">\n",
       "  <thead>\n",
       "    <tr style=\"text-align: right;\">\n",
       "      <th></th>\n",
       "      <th>overall</th>\n",
       "      <th>verified</th>\n",
       "      <th>reviewTime</th>\n",
       "      <th>reviewText</th>\n",
       "      <th>summary</th>\n",
       "    </tr>\n",
       "  </thead>\n",
       "  <tbody>\n",
       "    <tr>\n",
       "      <th>0</th>\n",
       "      <td>5</td>\n",
       "      <td>True</td>\n",
       "      <td>2016</td>\n",
       "      <td>As advertised. Reasonably priced</td>\n",
       "      <td>Five Stars</td>\n",
       "    </tr>\n",
       "    <tr>\n",
       "      <th>1</th>\n",
       "      <td>5</td>\n",
       "      <td>True</td>\n",
       "      <td>2013</td>\n",
       "      <td>Like the oder and the feel when I put it on my...</td>\n",
       "      <td>Good for the face</td>\n",
       "    </tr>\n",
       "    <tr>\n",
       "      <th>2</th>\n",
       "      <td>1</td>\n",
       "      <td>True</td>\n",
       "      <td>2013</td>\n",
       "      <td>I bought this to smell nice after I shave.  Wh...</td>\n",
       "      <td>Smells awful</td>\n",
       "    </tr>\n",
       "    <tr>\n",
       "      <th>3</th>\n",
       "      <td>5</td>\n",
       "      <td>False</td>\n",
       "      <td>2011</td>\n",
       "      <td>HEY!! I am an Aqua Velva Man and absolutely lo...</td>\n",
       "      <td>Truth is There IS Nothing Like an AQUA VELVA MAN.</td>\n",
       "    </tr>\n",
       "    <tr>\n",
       "      <th>4</th>\n",
       "      <td>5</td>\n",
       "      <td>True</td>\n",
       "      <td>2011</td>\n",
       "      <td>If you ever want to feel pampered by a shampoo...</td>\n",
       "      <td>Bvlgari Shampoo</td>\n",
       "    </tr>\n",
       "  </tbody>\n",
       "</table>\n",
       "</div>"
      ],
      "text/plain": [
       "   overall  verified reviewTime  \\\n",
       "0        5      True       2016   \n",
       "1        5      True       2013   \n",
       "2        1      True       2013   \n",
       "3        5     False       2011   \n",
       "4        5      True       2011   \n",
       "\n",
       "                                          reviewText  \\\n",
       "0                   As advertised. Reasonably priced   \n",
       "1  Like the oder and the feel when I put it on my...   \n",
       "2  I bought this to smell nice after I shave.  Wh...   \n",
       "3  HEY!! I am an Aqua Velva Man and absolutely lo...   \n",
       "4  If you ever want to feel pampered by a shampoo...   \n",
       "\n",
       "                                             summary  \n",
       "0                                         Five Stars  \n",
       "1                                  Good for the face  \n",
       "2                                       Smells awful  \n",
       "3  Truth is There IS Nothing Like an AQUA VELVA MAN.  \n",
       "4                                    Bvlgari Shampoo  "
      ]
     },
     "execution_count": 6,
     "metadata": {},
     "output_type": "execute_result"
    }
   ],
   "source": [
    "df.head()"
   ]
  },
  {
   "cell_type": "code",
   "execution_count": 7,
   "metadata": {},
   "outputs": [
    {
     "data": {
      "text/plain": [
       "'2018'"
      ]
     },
     "execution_count": 7,
     "metadata": {},
     "output_type": "execute_result"
    }
   ],
   "source": [
    "df['reviewTime'].max()"
   ]
  },
  {
   "cell_type": "code",
   "execution_count": 8,
   "metadata": {},
   "outputs": [
    {
     "data": {
      "text/plain": [
       "<AxesSubplot:>"
      ]
     },
     "execution_count": 8,
     "metadata": {},
     "output_type": "execute_result"
    },
    {
     "data": {
      "image/png": "[encoded data removed]",
      "text/plain": [
       "<Figure size 640x480 with 1 Axes>"
      ]
     },
     "metadata": {},
     "output_type": "display_data"
    }
   ],
   "source": [
    "df['reviewTime'].value_counts().plot(kind = 'bar')"
   ]
  },
  {
   "cell_type": "code",
   "execution_count": 9,
   "metadata": {},
   "outputs": [
    {
     "data": {
      "text/plain": [
       "0.5"
      ]
     },
     "execution_count": 9,
     "metadata": {},
     "output_type": "execute_result"
    }
   ],
   "source": [
    "TextBlob('I love this product').sentiment.polarity"
   ]
  },
  {
   "cell_type": "code",
   "execution_count": 10,
   "metadata": {},
   "outputs": [
    {
     "data": {
      "text/plain": [
       "-0.8"
      ]
     },
     "execution_count": 10,
     "metadata": {},
     "output_type": "execute_result"
    }
   ],
   "source": [
    "TextBlob('I hate this product').sentiment.polarity"
   ]
  },
  {
   "cell_type": "code",
   "execution_count": 11,
   "metadata": {},
   "outputs": [
    {
     "data": {
      "text/plain": [
       "0.0"
      ]
     },
     "execution_count": 11,
     "metadata": {},
     "output_type": "execute_result"
    }
   ],
   "source": [
    "TextBlob('I bought this product').sentiment.polarity"
   ]
  },
  {
   "cell_type": "code",
   "execution_count": 12,
   "metadata": {},
   "outputs": [],
   "source": [
    "def sentiment_analysis(text):\n",
    "    review = TextBlob(str(text)).sentiment.polarity\n",
    "    text = 'Neutral'\n",
    "    if review < 0:\n",
    "        text = 'Negative'\n",
    "    if review > 0:\n",
    "        text = 'Positive'\n",
    "    return text"
   ]
  },
  {
   "cell_type": "code",
   "execution_count": 13,
   "metadata": {},
   "outputs": [],
   "source": [
    "df['Polarity'] = df['reviewText'].apply(lambda x : sentiment_analysis(x))"
   ]
  },
  {
   "cell_type": "code",
   "execution_count": 14,
   "metadata": {},
   "outputs": [
    {
     "data": {
      "text/html": [
       "<div>\n",
       "<style scoped>\n",
       "    .dataframe tbody tr th:only-of-type {\n",
       "        vertical-align: middle;\n",
       "    }\n",
       "\n",
       "    .dataframe tbody tr th {\n",
       "        vertical-align: top;\n",
       "    }\n",
       "\n",
       "    .dataframe thead th {\n",
       "        text-align: right;\n",
       "    }\n",
       "</style>\n",
       "<table border=\"1\" class=\"dataframe\">\n",
       "  <thead>\n",
       "    <tr style=\"text-align: right;\">\n",
       "      <th></th>\n",
       "      <th>overall</th>\n",
       "      <th>verified</th>\n",
       "      <th>reviewTime</th>\n",
       "      <th>reviewText</th>\n",
       "      <th>summary</th>\n",
       "      <th>Polarity</th>\n",
       "    </tr>\n",
       "  </thead>\n",
       "  <tbody>\n",
       "    <tr>\n",
       "      <th>0</th>\n",
       "      <td>5</td>\n",
       "      <td>True</td>\n",
       "      <td>2016</td>\n",
       "      <td>As advertised. Reasonably priced</td>\n",
       "      <td>Five Stars</td>\n",
       "      <td>Positive</td>\n",
       "    </tr>\n",
       "    <tr>\n",
       "      <th>1</th>\n",
       "      <td>5</td>\n",
       "      <td>True</td>\n",
       "      <td>2013</td>\n",
       "      <td>Like the oder and the feel when I put it on my...</td>\n",
       "      <td>Good for the face</td>\n",
       "      <td>Negative</td>\n",
       "    </tr>\n",
       "    <tr>\n",
       "      <th>2</th>\n",
       "      <td>1</td>\n",
       "      <td>True</td>\n",
       "      <td>2013</td>\n",
       "      <td>I bought this to smell nice after I shave.  Wh...</td>\n",
       "      <td>Smells awful</td>\n",
       "      <td>Negative</td>\n",
       "    </tr>\n",
       "    <tr>\n",
       "      <th>3</th>\n",
       "      <td>5</td>\n",
       "      <td>False</td>\n",
       "      <td>2011</td>\n",
       "      <td>HEY!! I am an Aqua Velva Man and absolutely lo...</td>\n",
       "      <td>Truth is There IS Nothing Like an AQUA VELVA MAN.</td>\n",
       "      <td>Positive</td>\n",
       "    </tr>\n",
       "    <tr>\n",
       "      <th>4</th>\n",
       "      <td>5</td>\n",
       "      <td>True</td>\n",
       "      <td>2011</td>\n",
       "      <td>If you ever want to feel pampered by a shampoo...</td>\n",
       "      <td>Bvlgari Shampoo</td>\n",
       "      <td>Positive</td>\n",
       "    </tr>\n",
       "  </tbody>\n",
       "</table>\n",
       "</div>"
      ],
      "text/plain": [
       "   overall  verified reviewTime  \\\n",
       "0        5      True       2016   \n",
       "1        5      True       2013   \n",
       "2        1      True       2013   \n",
       "3        5     False       2011   \n",
       "4        5      True       2011   \n",
       "\n",
       "                                          reviewText  \\\n",
       "0                   As advertised. Reasonably priced   \n",
       "1  Like the oder and the feel when I put it on my...   \n",
       "2  I bought this to smell nice after I shave.  Wh...   \n",
       "3  HEY!! I am an Aqua Velva Man and absolutely lo...   \n",
       "4  If you ever want to feel pampered by a shampoo...   \n",
       "\n",
       "                                             summary  Polarity  \n",
       "0                                         Five Stars  Positive  \n",
       "1                                  Good for the face  Negative  \n",
       "2                                       Smells awful  Negative  \n",
       "3  Truth is There IS Nothing Like an AQUA VELVA MAN.  Positive  \n",
       "4                                    Bvlgari Shampoo  Positive  "
      ]
     },
     "execution_count": 14,
     "metadata": {},
     "output_type": "execute_result"
    }
   ],
   "source": [
    "df.head()"
   ]
  },
  {
   "cell_type": "code",
   "execution_count": null,
   "metadata": {},
   "outputs": [],
   "source": []
  }
 ],
 "metadata": {
  "colab": {
   "authorship_tag": "ABX9TyP2chLj2kHXGBHM4fA4WoJJ",
   "mount_file_id": "11qCuNd_MYXwy_yHfDveGhVkJ0nxNYMAY",
   "provenance": []
  },
  "kernelspec": {
   "display_name": "Python 3 (ipykernel)",
   "language": "python",
   "name": "python3"
  },
  "language_info": {
   "codemirror_mode": {
    "name": "ipython",
    "version": 3
   },
   "file_extension": ".py",
   "mimetype": "text/x-python",
   "name": "python",
   "nbconvert_exporter": "python",
   "pygments_lexer": "ipython3",
   "version": "3.9.13"
  }
 },
 "nbformat": 4,
 "nbformat_minor": 1
}
