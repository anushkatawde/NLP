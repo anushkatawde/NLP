{
  "nbformat": 4,
  "nbformat_minor": 0,
  "metadata": {
    "colab": {
      "provenance": []
    },
    "kernelspec": {
      "name": "python3",
      "display_name": "Python 3"
    },
    "language_info": {
      "name": "python"
    }
  },
  "cells": [
    {
      "cell_type": "code",
      "execution_count": null,
      "metadata": {
        "id": "HPdftIoPmQJF"
      },
      "outputs": [],
      "source": [
        "import gensim.downloader as api"
      ]
    },
    {
      "cell_type": "code",
      "source": [
        "word2vec = api.load(\"word2vec-google-news-300\")"
      ],
      "metadata": {
        "colab": {
          "base_uri": "https://localhost:8080/"
        },
        "id": "IoGwnhZbmT-m",
        "outputId": "b97218eb-ae47-4b3e-deb8-f24b9065e0d0"
      },
      "execution_count": null,
      "outputs": [
        {
          "output_type": "stream",
          "name": "stdout",
          "text": [
            "[==================================================] 100.0% 1662.8/1662.8MB downloaded\n"
          ]
        }
      ]
    },
    {
      "cell_type": "code",
      "source": [
        "word2vec['cat'].shape"
      ],
      "metadata": {
        "colab": {
          "base_uri": "https://localhost:8080/"
        },
        "id": "epnyfznGoDB8",
        "outputId": "534cdbd2-dd5d-406f-a49a-ab23b606e84b"
      },
      "execution_count": null,
      "outputs": [
        {
          "output_type": "execute_result",
          "data": {
            "text/plain": [
              "(300,)"
            ]
          },
          "metadata": {},
          "execution_count": 4
        }
      ]
    },
    {
      "cell_type": "code",
      "source": [
        "word2vec.similarity('cat', 'kittens')"
      ],
      "metadata": {
        "colab": {
          "base_uri": "https://localhost:8080/"
        },
        "id": "ezTOf_L7oDJK",
        "outputId": "8b5937eb-208f-406d-f156-194c43203900"
      },
      "execution_count": null,
      "outputs": [
        {
          "output_type": "execute_result",
          "data": {
            "text/plain": [
              "0.63871133"
            ]
          },
          "metadata": {},
          "execution_count": 5
        }
      ]
    },
    {
      "cell_type": "code",
      "source": [
        "word2vec.most_similar('cat')"
      ],
      "metadata": {
        "colab": {
          "base_uri": "https://localhost:8080/"
        },
        "id": "tXVOrdYCoDN6",
        "outputId": "3821b494-5e81-4670-ae95-f3052c23e63f"
      },
      "execution_count": null,
      "outputs": [
        {
          "output_type": "execute_result",
          "data": {
            "text/plain": [
              "[('cats', 0.8099379539489746),\n",
              " ('dog', 0.760945737361908),\n",
              " ('kitten', 0.7464985251426697),\n",
              " ('feline', 0.7326234579086304),\n",
              " ('beagle', 0.7150582671165466),\n",
              " ('puppy', 0.7075453400611877),\n",
              " ('pup', 0.6934291124343872),\n",
              " ('pet', 0.6891531348228455),\n",
              " ('felines', 0.6755931973457336),\n",
              " ('chihuahua', 0.6709762215614319)]"
            ]
          },
          "metadata": {},
          "execution_count": 6
        }
      ]
    },
    {
      "cell_type": "code",
      "source": [
        "word2vec.doesnt_match(['cat', 'kitten', 'elephant'])"
      ],
      "metadata": {
        "colab": {
          "base_uri": "https://localhost:8080/",
          "height": 35
        },
        "id": "2RIYIT6bsokB",
        "outputId": "f772669b-1971-41f0-b3a5-d94546ef03c5"
      },
      "execution_count": null,
      "outputs": [
        {
          "output_type": "execute_result",
          "data": {
            "text/plain": [
              "'elephant'"
            ],
            "application/vnd.google.colaboratory.intrinsic+json": {
              "type": "string"
            }
          },
          "metadata": {},
          "execution_count": 8
        }
      ]
    },
    {
      "cell_type": "code",
      "source": [
        "word2vec.doesnt_match(['chair', 'table', 'building'])"
      ],
      "metadata": {
        "colab": {
          "base_uri": "https://localhost:8080/",
          "height": 35
        },
        "id": "bt9qriVmsoru",
        "outputId": "9b2114e4-7f73-482c-abd0-30658cdda2ed"
      },
      "execution_count": null,
      "outputs": [
        {
          "output_type": "execute_result",
          "data": {
            "text/plain": [
              "'building'"
            ],
            "application/vnd.google.colaboratory.intrinsic+json": {
              "type": "string"
            }
          },
          "metadata": {},
          "execution_count": 9
        }
      ]
    },
    {
      "cell_type": "code",
      "source": [
        "vec = word2vec['king'] - word2vec['men'] + word2vec['women']\n",
        "word2vec.most_similar([vec])"
      ],
      "metadata": {
        "colab": {
          "base_uri": "https://localhost:8080/"
        },
        "id": "8eQcsmHmsowh",
        "outputId": "34db1e95-b95a-4481-9ffb-6d96f50be01b"
      },
      "execution_count": null,
      "outputs": [
        {
          "output_type": "execute_result",
          "data": {
            "text/plain": [
              "[('king', 0.8527070879936218),\n",
              " ('queen', 0.6743921637535095),\n",
              " ('monarch', 0.6191632151603699),\n",
              " ('kings', 0.5753854513168335),\n",
              " ('crown_prince', 0.562209963798523),\n",
              " ('princess', 0.543317437171936),\n",
              " ('prince', 0.5246985554695129),\n",
              " ('sultan', 0.5236638784408569),\n",
              " ('ruler', 0.5165805220603943),\n",
              " ('monarchy', 0.5113592147827148)]"
            ]
          },
          "metadata": {},
          "execution_count": 11
        }
      ]
    },
    {
      "cell_type": "code",
      "source": [
        "vec2 = word2vec['INR'] - word2vec['INDIA'] + word2vec['ENGLAND']\n",
        "word2vec.most_similar([vec2])"
      ],
      "metadata": {
        "colab": {
          "base_uri": "https://localhost:8080/"
        },
        "id": "03TvftWwuNC6",
        "outputId": "5d403487-fb82-4bc6-8cf2-f3e2adadb3bd"
      },
      "execution_count": null,
      "outputs": [
        {
          "output_type": "execute_result",
          "data": {
            "text/plain": [
              "[('INR', 0.5168343186378479),\n",
              " ('ENGLAND', 0.5120964050292969),\n",
              " ('GBP', 0.4450418949127197),\n",
              " ('BLACKBURN_Rovers', 0.42433300614356995),\n",
              " ('Goalkeeper_Maik_Taylor', 0.4195941090583801),\n",
              " ('Sol_Campbell_Sylvain_Distin', 0.4178478419780731),\n",
              " ('Ledley_King_Jamie_Carragher', 0.4158109724521637),\n",
              " ('striker_Emile_Heskey', 0.41200312972068787),\n",
              " ('#,###.##_PER_GBP', 0.40780407190322876),\n",
              " ('Â_£', 0.40709665417671204)]"
            ]
          },
          "metadata": {},
          "execution_count": 12
        }
      ]
    },
    {
      "cell_type": "code",
      "source": [
        "word2vec.most_similar(['man'])"
      ],
      "metadata": {
        "colab": {
          "base_uri": "https://localhost:8080/"
        },
        "id": "0p63oGGfulCP",
        "outputId": "cc283d04-8df7-41ef-a2bf-77375e6aa8c7"
      },
      "execution_count": null,
      "outputs": [
        {
          "output_type": "execute_result",
          "data": {
            "text/plain": [
              "[('woman', 0.7664012908935547),\n",
              " ('boy', 0.6824871301651001),\n",
              " ('teenager', 0.6586930155754089),\n",
              " ('teenage_girl', 0.6147903203964233),\n",
              " ('girl', 0.5921714305877686),\n",
              " ('suspected_purse_snatcher', 0.571636438369751),\n",
              " ('robber', 0.5585119128227234),\n",
              " ('Robbery_suspect', 0.5584409832954407),\n",
              " ('teen_ager', 0.5549196600914001),\n",
              " ('men', 0.5489763021469116)]"
            ]
          },
          "metadata": {},
          "execution_count": 15
        }
      ]
    },
    {
      "cell_type": "code",
      "source": [
        "word2vec.most_similar(['women'])"
      ],
      "metadata": {
        "colab": {
          "base_uri": "https://localhost:8080/"
        },
        "id": "Fx-icEPZwCy-",
        "outputId": "20ea424f-6442-4d3d-bd6c-ed90cd9393a2"
      },
      "execution_count": null,
      "outputs": [
        {
          "output_type": "execute_result",
          "data": {
            "text/plain": [
              "[('men', 0.767493724822998),\n",
              " ('Women', 0.7283449769020081),\n",
              " ('womens', 0.6786180734634399),\n",
              " ('girls', 0.6339040398597717),\n",
              " ('females', 0.6240420341491699),\n",
              " ('mothers', 0.6050933599472046),\n",
              " ('ladies', 0.5865179300308228),\n",
              " ('husbands', 0.5705342292785645),\n",
              " ('transwomen', 0.5697940587997437),\n",
              " ('Men', 0.5693342089653015)]"
            ]
          },
          "metadata": {},
          "execution_count": 17
        }
      ]
    }
  ]
}